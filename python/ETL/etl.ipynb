{
 "cells": [
  {
   "cell_type": "markdown",
   "id": "e3ecb1dd-c57b-46a3-affa-8cbfe22ea3a6",
   "metadata": {},
   "source": [
    "# Introduction to ETL operations with Pandad and SQLAlchemy"
   ]
  },
  {
   "cell_type": "markdown",
   "id": "fb7f38ba-4a06-4549-9980-4371c0eadbf5",
   "metadata": {},
   "source": [
    "\n",
    "Install the necessary dependencies; pandas, pscopg2, and sqlalchemy\n",
    "  "
   ]
  },
  {
   "cell_type": "code",
   "execution_count": null,
   "id": "22bbe947-46f7-4f65-b006-bfd8da728f07",
   "metadata": {},
   "outputs": [],
   "source": [
    "pip install pandas  #Python library used for data manipulation and analysis."
   ]
  },
  {
   "cell_type": "code",
   "execution_count": null,
   "id": "5f0583c4-dd0a-4294-aa61-1365c015b2e9",
   "metadata": {},
   "outputs": [],
   "source": [
    "pip install psycopg2  #DBAPI, Python postgreSQL database adapter driver to for sqlachemy"
   ]
  },
  {
   "cell_type": "code",
   "execution_count": null,
   "id": "907a0b7c-9d08-4a7c-8df6-7f7602a967c1",
   "metadata": {},
   "outputs": [],
   "source": [
    "pip install sqlalchemy  #SQLAlchemy is the Python SQL toolkit and Object Relational Mapper that gives application developers the full power and flexibility of SQL"
   ]
  },
  {
   "cell_type": "markdown",
   "id": "5adbd83e-ccfa-4aa9-bdb4-6bb1d251039f",
   "metadata": {},
   "source": [
    "\n",
    "Import the dependencies\n"
   ]
  },
  {
   "cell_type": "code",
   "execution_count": 35,
   "id": "6adb9055-f584-4e5c-bf4f-2961a489f14e",
   "metadata": {},
   "outputs": [],
   "source": [
    "import pandas as pd\n",
    "from sqlalchemy import create_engine\n",
    "import datetime"
   ]
  },
  {
   "cell_type": "markdown",
   "id": "19894ea2-6683-40ea-b8b9-b2d57e3aa71e",
   "metadata": {},
   "source": [
    "Using Pandas read the project csv file as <mark>df_1</mark>"
   ]
  },
  {
   "cell_type": "code",
   "execution_count": null,
   "id": "a4847f2e-457b-4f2f-8e64-5c25dad5007e",
   "metadata": {},
   "outputs": [],
   "source": [
    "df_1 = pd.read_csv('weight-height-updated.csv')"
   ]
  },
  {
   "cell_type": "code",
   "execution_count": 22,
   "id": "4602b36c-755d-4b3b-b65d-57d184f3715f",
   "metadata": {},
   "outputs": [
    {
     "data": {
      "text/html": [
       "<div>\n",
       "<style scoped>\n",
       "    .dataframe tbody tr th:only-of-type {\n",
       "        vertical-align: middle;\n",
       "    }\n",
       "\n",
       "    .dataframe tbody tr th {\n",
       "        vertical-align: top;\n",
       "    }\n",
       "\n",
       "    .dataframe thead th {\n",
       "        text-align: right;\n",
       "    }\n",
       "</style>\n",
       "<table border=\"1\" class=\"dataframe\">\n",
       "  <thead>\n",
       "    <tr style=\"text-align: right;\">\n",
       "      <th></th>\n",
       "      <th>Gender</th>\n",
       "      <th>Height</th>\n",
       "      <th>Weight</th>\n",
       "      <th>Born_Year</th>\n",
       "    </tr>\n",
       "  </thead>\n",
       "  <tbody>\n",
       "    <tr>\n",
       "      <th>0</th>\n",
       "      <td>Male</td>\n",
       "      <td>73.847017</td>\n",
       "      <td>241.893563</td>\n",
       "      <td>1967.0</td>\n",
       "    </tr>\n",
       "    <tr>\n",
       "      <th>1</th>\n",
       "      <td>Male</td>\n",
       "      <td>68.781904</td>\n",
       "      <td>162.310473</td>\n",
       "      <td>1977.0</td>\n",
       "    </tr>\n",
       "    <tr>\n",
       "      <th>2</th>\n",
       "      <td>Male</td>\n",
       "      <td>74.110105</td>\n",
       "      <td>212.740856</td>\n",
       "      <td>1991.0</td>\n",
       "    </tr>\n",
       "    <tr>\n",
       "      <th>3</th>\n",
       "      <td>Male</td>\n",
       "      <td>71.730978</td>\n",
       "      <td>220.042470</td>\n",
       "      <td>1998.0</td>\n",
       "    </tr>\n",
       "    <tr>\n",
       "      <th>4</th>\n",
       "      <td>Male</td>\n",
       "      <td>69.881796</td>\n",
       "      <td>206.349801</td>\n",
       "      <td>1985.0</td>\n",
       "    </tr>\n",
       "  </tbody>\n",
       "</table>\n",
       "</div>"
      ],
      "text/plain": [
       "  Gender     Height      Weight  Born_Year\n",
       "0   Male  73.847017  241.893563     1967.0\n",
       "1   Male  68.781904  162.310473     1977.0\n",
       "2   Male  74.110105  212.740856     1991.0\n",
       "3   Male  71.730978  220.042470     1998.0\n",
       "4   Male  69.881796  206.349801     1985.0"
      ]
     },
     "execution_count": 22,
     "metadata": {},
     "output_type": "execute_result"
    }
   ],
   "source": [
    "df_1.head()"
   ]
  },
  {
   "cell_type": "code",
   "execution_count": 15,
   "id": "a7c4bd94-5a95-401a-9727-633ef11624be",
   "metadata": {},
   "outputs": [
    {
     "data": {
      "text/plain": [
       "(10000, 4)"
      ]
     },
     "execution_count": 15,
     "metadata": {},
     "output_type": "execute_result"
    }
   ],
   "source": [
    "df_1.shape  #Display the number of rows and columns"
   ]
  },
  {
   "cell_type": "code",
   "execution_count": 26,
   "id": "cbd7e2cb-921e-4f78-8c5d-c62bd349e630",
   "metadata": {},
   "outputs": [
    {
     "data": {
      "text/plain": [
       "Gender       0\n",
       "Height       0\n",
       "Weight       0\n",
       "Born_Year    0\n",
       "dtype: int64"
      ]
     },
     "execution_count": 26,
     "metadata": {},
     "output_type": "execute_result"
    }
   ],
   "source": [
    "df_1.isnull().sum() #Checks the total count of null values."
   ]
  },
  {
   "cell_type": "code",
   "execution_count": 16,
   "id": "257c7809-8d1a-4bc7-a116-8c1e674ce5a9",
   "metadata": {},
   "outputs": [
    {
     "data": {
      "text/plain": [
       "Gender        object\n",
       "Height       float64\n",
       "Weight       float64\n",
       "Born_Year    float64\n",
       "dtype: object"
      ]
     },
     "execution_count": 16,
     "metadata": {},
     "output_type": "execute_result"
    }
   ],
   "source": [
    "df_1.dtypes  #Checks the data type for each column."
   ]
  },
  {
   "cell_type": "code",
   "execution_count": null,
   "id": "91ffc292-f249-48eb-b386-6428ab3c56e9",
   "metadata": {},
   "outputs": [],
   "source": [
    "df_1.describe()  #Display descriptive statistics."
   ]
  },
  {
   "cell_type": "code",
   "execution_count": 19,
   "id": "2ca3b746-2376-4a16-9dd9-53884c320c0d",
   "metadata": {},
   "outputs": [
    {
     "data": {
      "text/plain": [
       "19.889742319127848"
      ]
     },
     "execution_count": 19,
     "metadata": {},
     "output_type": "execute_result"
    }
   ],
   "source": [
    "cv = (32.11/161.44)*100\n",
    "cv"
   ]
  },
  {
   "cell_type": "code",
   "execution_count": 20,
   "id": "34c4cdf3-1626-402f-8d5b-9d21249b1b9c",
   "metadata": {},
   "outputs": [
    {
     "data": {
      "text/plain": [
       "0.5762179151388162"
      ]
     },
     "execution_count": 20,
     "metadata": {},
     "output_type": "execute_result"
    }
   ],
   "source": [
    "c_v1 = (11.44/1985.36)*100 #cv<10%, therefore can use mean to fill nulls\n",
    "c_v1"
   ]
  },
  {
   "cell_type": "code",
   "execution_count": 24,
   "id": "b77a96a0-7786-485c-8a42-67ff1e229d1c",
   "metadata": {},
   "outputs": [],
   "source": [
    "df_1['Born_Year'] = df_1['Born_Year'].fillna(df_1['Born_Year'].mode()[0])  #Calculated column."
   ]
  },
  {
   "cell_type": "code",
   "execution_count": 25,
   "id": "c1c51fd5-2f31-4e0d-ae6e-55bf267d09a4",
   "metadata": {},
   "outputs": [
    {
     "data": {
      "text/plain": [
       "Gender       0\n",
       "Height       0\n",
       "Weight       0\n",
       "Born_Year    0\n",
       "dtype: int64"
      ]
     },
     "execution_count": 25,
     "metadata": {},
     "output_type": "execute_result"
    }
   ],
   "source": [
    "df_1.isnull().sum()"
   ]
  },
  {
   "cell_type": "code",
   "execution_count": null,
   "id": "5ed88377-0158-41b8-9b19-8164eea3b3ac",
   "metadata": {},
   "outputs": [],
   "source": [
    "#Drop\n",
    "#df_1.dropna() #drops rows with missing values\n",
    "#df_1.dropna(axis=1) #drops columns with missing values"
   ]
  },
  {
   "cell_type": "code",
   "execution_count": 47,
   "id": "8a3f7486-9d07-4946-9e5d-8540562b4092",
   "metadata": {},
   "outputs": [
    {
     "data": {
      "text/plain": [
       "Gender           object\n",
       "Height          float64\n",
       "Weight          float64\n",
       "Born_Year         int64\n",
       "Born_year         int64\n",
       "Current_Year      int64\n",
       "Age             float64\n",
       "bmi             float64\n",
       "bmi_category     object\n",
       "dtype: object"
      ]
     },
     "execution_count": 47,
     "metadata": {},
     "output_type": "execute_result"
    }
   ],
   "source": [
    "df_1['Born_Year'] = df_1['Born_Year'].astype(int) #Change data type for the Born Year column.\n",
    "df_1.dtypes"
   ]
  },
  {
   "cell_type": "code",
   "execution_count": 31,
   "id": "66f81c58-7b5d-4745-a1fc-b12305eebe02",
   "metadata": {},
   "outputs": [
    {
     "data": {
      "text/html": [
       "<div>\n",
       "<style scoped>\n",
       "    .dataframe tbody tr th:only-of-type {\n",
       "        vertical-align: middle;\n",
       "    }\n",
       "\n",
       "    .dataframe tbody tr th {\n",
       "        vertical-align: top;\n",
       "    }\n",
       "\n",
       "    .dataframe thead th {\n",
       "        text-align: right;\n",
       "    }\n",
       "</style>\n",
       "<table border=\"1\" class=\"dataframe\">\n",
       "  <thead>\n",
       "    <tr style=\"text-align: right;\">\n",
       "      <th></th>\n",
       "      <th>Gender</th>\n",
       "      <th>Height</th>\n",
       "      <th>Weight</th>\n",
       "      <th>Born_Year</th>\n",
       "      <th>Born_year</th>\n",
       "    </tr>\n",
       "  </thead>\n",
       "  <tbody>\n",
       "    <tr>\n",
       "      <th>0</th>\n",
       "      <td>Male</td>\n",
       "      <td>73.847017</td>\n",
       "      <td>241.893563</td>\n",
       "      <td>1967.0</td>\n",
       "      <td>1967</td>\n",
       "    </tr>\n",
       "    <tr>\n",
       "      <th>1</th>\n",
       "      <td>Male</td>\n",
       "      <td>68.781904</td>\n",
       "      <td>162.310473</td>\n",
       "      <td>1977.0</td>\n",
       "      <td>1977</td>\n",
       "    </tr>\n",
       "    <tr>\n",
       "      <th>2</th>\n",
       "      <td>Male</td>\n",
       "      <td>74.110105</td>\n",
       "      <td>212.740856</td>\n",
       "      <td>1991.0</td>\n",
       "      <td>1991</td>\n",
       "    </tr>\n",
       "    <tr>\n",
       "      <th>3</th>\n",
       "      <td>Male</td>\n",
       "      <td>71.730978</td>\n",
       "      <td>220.042470</td>\n",
       "      <td>1998.0</td>\n",
       "      <td>1998</td>\n",
       "    </tr>\n",
       "    <tr>\n",
       "      <th>4</th>\n",
       "      <td>Male</td>\n",
       "      <td>69.881796</td>\n",
       "      <td>206.349801</td>\n",
       "      <td>1985.0</td>\n",
       "      <td>1985</td>\n",
       "    </tr>\n",
       "  </tbody>\n",
       "</table>\n",
       "</div>"
      ],
      "text/plain": [
       "  Gender     Height      Weight  Born_Year  Born_year\n",
       "0   Male  73.847017  241.893563     1967.0       1967\n",
       "1   Male  68.781904  162.310473     1977.0       1977\n",
       "2   Male  74.110105  212.740856     1991.0       1991\n",
       "3   Male  71.730978  220.042470     1998.0       1998\n",
       "4   Male  69.881796  206.349801     1985.0       1985"
      ]
     },
     "execution_count": 31,
     "metadata": {},
     "output_type": "execute_result"
    }
   ],
   "source": [
    "df_1.head()"
   ]
  },
  {
   "cell_type": "code",
   "execution_count": 52,
   "id": "a7c1ec51-ad5c-48aa-9f82-3f157214d8c6",
   "metadata": {},
   "outputs": [
    {
     "data": {
      "text/html": [
       "<div>\n",
       "<style scoped>\n",
       "    .dataframe tbody tr th:only-of-type {\n",
       "        vertical-align: middle;\n",
       "    }\n",
       "\n",
       "    .dataframe tbody tr th {\n",
       "        vertical-align: top;\n",
       "    }\n",
       "\n",
       "    .dataframe thead th {\n",
       "        text-align: right;\n",
       "    }\n",
       "</style>\n",
       "<table border=\"1\" class=\"dataframe\">\n",
       "  <thead>\n",
       "    <tr style=\"text-align: right;\">\n",
       "      <th></th>\n",
       "      <th>Gender</th>\n",
       "      <th>Height</th>\n",
       "      <th>Weight</th>\n",
       "      <th>Born_Year</th>\n",
       "      <th>Current_Year</th>\n",
       "      <th>Age</th>\n",
       "      <th>BMI</th>\n",
       "    </tr>\n",
       "  </thead>\n",
       "  <tbody>\n",
       "    <tr>\n",
       "      <th>0</th>\n",
       "      <td>Male</td>\n",
       "      <td>73.847017</td>\n",
       "      <td>241.893563</td>\n",
       "      <td>1967</td>\n",
       "      <td>2025</td>\n",
       "      <td>58.0</td>\n",
       "      <td>31.182700</td>\n",
       "    </tr>\n",
       "    <tr>\n",
       "      <th>1</th>\n",
       "      <td>Male</td>\n",
       "      <td>68.781904</td>\n",
       "      <td>162.310473</td>\n",
       "      <td>1977</td>\n",
       "      <td>2025</td>\n",
       "      <td>48.0</td>\n",
       "      <td>24.118677</td>\n",
       "    </tr>\n",
       "    <tr>\n",
       "      <th>2</th>\n",
       "      <td>Male</td>\n",
       "      <td>74.110105</td>\n",
       "      <td>212.740856</td>\n",
       "      <td>1991</td>\n",
       "      <td>2025</td>\n",
       "      <td>34.0</td>\n",
       "      <td>27.230233</td>\n",
       "    </tr>\n",
       "    <tr>\n",
       "      <th>3</th>\n",
       "      <td>Male</td>\n",
       "      <td>71.730978</td>\n",
       "      <td>220.042470</td>\n",
       "      <td>1998</td>\n",
       "      <td>2025</td>\n",
       "      <td>27.0</td>\n",
       "      <td>30.064108</td>\n",
       "    </tr>\n",
       "    <tr>\n",
       "      <th>4</th>\n",
       "      <td>Male</td>\n",
       "      <td>69.881796</td>\n",
       "      <td>206.349801</td>\n",
       "      <td>1985</td>\n",
       "      <td>2025</td>\n",
       "      <td>40.0</td>\n",
       "      <td>29.705117</td>\n",
       "    </tr>\n",
       "  </tbody>\n",
       "</table>\n",
       "</div>"
      ],
      "text/plain": [
       "  Gender     Height      Weight  Born_Year  Current_Year   Age        BMI\n",
       "0   Male  73.847017  241.893563       1967          2025  58.0  31.182700\n",
       "1   Male  68.781904  162.310473       1977          2025  48.0  24.118677\n",
       "2   Male  74.110105  212.740856       1991          2025  34.0  27.230233\n",
       "3   Male  71.730978  220.042470       1998          2025  27.0  30.064108\n",
       "4   Male  69.881796  206.349801       1985          2025  40.0  29.705117"
      ]
     },
     "execution_count": 52,
     "metadata": {},
     "output_type": "execute_result"
    }
   ],
   "source": [
    "df_1['BMI'] = (df_1['Weight'] / (df_1['Height'])**2) * 703  #Calculated column for body mass index.\n",
    "df_1.head()"
   ]
  },
  {
   "cell_type": "code",
   "execution_count": 37,
   "id": "f8580e82-64c3-4813-8bb0-5f06af237bab",
   "metadata": {},
   "outputs": [
    {
     "data": {
      "text/html": [
       "<div>\n",
       "<style scoped>\n",
       "    .dataframe tbody tr th:only-of-type {\n",
       "        vertical-align: middle;\n",
       "    }\n",
       "\n",
       "    .dataframe tbody tr th {\n",
       "        vertical-align: top;\n",
       "    }\n",
       "\n",
       "    .dataframe thead th {\n",
       "        text-align: right;\n",
       "    }\n",
       "</style>\n",
       "<table border=\"1\" class=\"dataframe\">\n",
       "  <thead>\n",
       "    <tr style=\"text-align: right;\">\n",
       "      <th></th>\n",
       "      <th>Gender</th>\n",
       "      <th>Height</th>\n",
       "      <th>Weight</th>\n",
       "      <th>Born_Year</th>\n",
       "      <th>Born_year</th>\n",
       "      <th>Bmi</th>\n",
       "      <th>Current_Year</th>\n",
       "    </tr>\n",
       "  </thead>\n",
       "  <tbody>\n",
       "    <tr>\n",
       "      <th>0</th>\n",
       "      <td>Male</td>\n",
       "      <td>73.847017</td>\n",
       "      <td>241.893563</td>\n",
       "      <td>1967.0</td>\n",
       "      <td>1967</td>\n",
       "      <td>31.182700</td>\n",
       "      <td>2025</td>\n",
       "    </tr>\n",
       "    <tr>\n",
       "      <th>1</th>\n",
       "      <td>Male</td>\n",
       "      <td>68.781904</td>\n",
       "      <td>162.310473</td>\n",
       "      <td>1977.0</td>\n",
       "      <td>1977</td>\n",
       "      <td>24.118677</td>\n",
       "      <td>2025</td>\n",
       "    </tr>\n",
       "    <tr>\n",
       "      <th>2</th>\n",
       "      <td>Male</td>\n",
       "      <td>74.110105</td>\n",
       "      <td>212.740856</td>\n",
       "      <td>1991.0</td>\n",
       "      <td>1991</td>\n",
       "      <td>27.230233</td>\n",
       "      <td>2025</td>\n",
       "    </tr>\n",
       "    <tr>\n",
       "      <th>3</th>\n",
       "      <td>Male</td>\n",
       "      <td>71.730978</td>\n",
       "      <td>220.042470</td>\n",
       "      <td>1998.0</td>\n",
       "      <td>1998</td>\n",
       "      <td>30.064108</td>\n",
       "      <td>2025</td>\n",
       "    </tr>\n",
       "    <tr>\n",
       "      <th>4</th>\n",
       "      <td>Male</td>\n",
       "      <td>69.881796</td>\n",
       "      <td>206.349801</td>\n",
       "      <td>1985.0</td>\n",
       "      <td>1985</td>\n",
       "      <td>29.705117</td>\n",
       "      <td>2025</td>\n",
       "    </tr>\n",
       "  </tbody>\n",
       "</table>\n",
       "</div>"
      ],
      "text/plain": [
       "  Gender     Height      Weight  Born_Year  Born_year        Bmi  Current_Year\n",
       "0   Male  73.847017  241.893563     1967.0       1967  31.182700          2025\n",
       "1   Male  68.781904  162.310473     1977.0       1977  24.118677          2025\n",
       "2   Male  74.110105  212.740856     1991.0       1991  27.230233          2025\n",
       "3   Male  71.730978  220.042470     1998.0       1998  30.064108          2025\n",
       "4   Male  69.881796  206.349801     1985.0       1985  29.705117          2025"
      ]
     },
     "execution_count": 37,
     "metadata": {},
     "output_type": "execute_result"
    }
   ],
   "source": [
    "df_1['Current_Year'] = datetime.datetime.now().  #Calculated column for Current Year.\n",
    "df_1.head()"
   ]
  },
  {
   "cell_type": "code",
   "execution_count": 38,
   "id": "3572f74d-c6b3-4ba7-bea9-8215f13ae1d6",
   "metadata": {},
   "outputs": [
    {
     "data": {
      "text/html": [
       "<div>\n",
       "<style scoped>\n",
       "    .dataframe tbody tr th:only-of-type {\n",
       "        vertical-align: middle;\n",
       "    }\n",
       "\n",
       "    .dataframe tbody tr th {\n",
       "        vertical-align: top;\n",
       "    }\n",
       "\n",
       "    .dataframe thead th {\n",
       "        text-align: right;\n",
       "    }\n",
       "</style>\n",
       "<table border=\"1\" class=\"dataframe\">\n",
       "  <thead>\n",
       "    <tr style=\"text-align: right;\">\n",
       "      <th></th>\n",
       "      <th>Gender</th>\n",
       "      <th>Height</th>\n",
       "      <th>Weight</th>\n",
       "      <th>Born_Year</th>\n",
       "      <th>Born_year</th>\n",
       "      <th>Bmi</th>\n",
       "      <th>Current_Year</th>\n",
       "      <th>Age</th>\n",
       "    </tr>\n",
       "  </thead>\n",
       "  <tbody>\n",
       "    <tr>\n",
       "      <th>0</th>\n",
       "      <td>Male</td>\n",
       "      <td>73.847017</td>\n",
       "      <td>241.893563</td>\n",
       "      <td>1967.0</td>\n",
       "      <td>1967</td>\n",
       "      <td>31.182700</td>\n",
       "      <td>2025</td>\n",
       "      <td>58.0</td>\n",
       "    </tr>\n",
       "    <tr>\n",
       "      <th>1</th>\n",
       "      <td>Male</td>\n",
       "      <td>68.781904</td>\n",
       "      <td>162.310473</td>\n",
       "      <td>1977.0</td>\n",
       "      <td>1977</td>\n",
       "      <td>24.118677</td>\n",
       "      <td>2025</td>\n",
       "      <td>48.0</td>\n",
       "    </tr>\n",
       "    <tr>\n",
       "      <th>2</th>\n",
       "      <td>Male</td>\n",
       "      <td>74.110105</td>\n",
       "      <td>212.740856</td>\n",
       "      <td>1991.0</td>\n",
       "      <td>1991</td>\n",
       "      <td>27.230233</td>\n",
       "      <td>2025</td>\n",
       "      <td>34.0</td>\n",
       "    </tr>\n",
       "    <tr>\n",
       "      <th>3</th>\n",
       "      <td>Male</td>\n",
       "      <td>71.730978</td>\n",
       "      <td>220.042470</td>\n",
       "      <td>1998.0</td>\n",
       "      <td>1998</td>\n",
       "      <td>30.064108</td>\n",
       "      <td>2025</td>\n",
       "      <td>27.0</td>\n",
       "    </tr>\n",
       "    <tr>\n",
       "      <th>4</th>\n",
       "      <td>Male</td>\n",
       "      <td>69.881796</td>\n",
       "      <td>206.349801</td>\n",
       "      <td>1985.0</td>\n",
       "      <td>1985</td>\n",
       "      <td>29.705117</td>\n",
       "      <td>2025</td>\n",
       "      <td>40.0</td>\n",
       "    </tr>\n",
       "  </tbody>\n",
       "</table>\n",
       "</div>"
      ],
      "text/plain": [
       "  Gender     Height      Weight  Born_Year  Born_year        Bmi  \\\n",
       "0   Male  73.847017  241.893563     1967.0       1967  31.182700   \n",
       "1   Male  68.781904  162.310473     1977.0       1977  24.118677   \n",
       "2   Male  74.110105  212.740856     1991.0       1991  27.230233   \n",
       "3   Male  71.730978  220.042470     1998.0       1998  30.064108   \n",
       "4   Male  69.881796  206.349801     1985.0       1985  29.705117   \n",
       "\n",
       "   Current_Year   Age  \n",
       "0          2025  58.0  \n",
       "1          2025  48.0  \n",
       "2          2025  34.0  \n",
       "3          2025  27.0  \n",
       "4          2025  40.0  "
      ]
     },
     "execution_count": 38,
     "metadata": {},
     "output_type": "execute_result"
    }
   ],
   "source": [
    "df_1['Age'] = df_1['Current_Year'] - df_1['Born_Year']  #Calculated column for Age.\n",
    "df_1.head()"
   ]
  },
  {
   "cell_type": "code",
   "execution_count": 53,
   "id": "b10b7d07-0e43-4a9c-9808-b2365696da4f",
   "metadata": {},
   "outputs": [
    {
     "data": {
      "text/html": [
       "<div>\n",
       "<style scoped>\n",
       "    .dataframe tbody tr th:only-of-type {\n",
       "        vertical-align: middle;\n",
       "    }\n",
       "\n",
       "    .dataframe tbody tr th {\n",
       "        vertical-align: top;\n",
       "    }\n",
       "\n",
       "    .dataframe thead th {\n",
       "        text-align: right;\n",
       "    }\n",
       "</style>\n",
       "<table border=\"1\" class=\"dataframe\">\n",
       "  <thead>\n",
       "    <tr style=\"text-align: right;\">\n",
       "      <th></th>\n",
       "      <th>Gender</th>\n",
       "      <th>Height</th>\n",
       "      <th>Weight</th>\n",
       "      <th>Born_Year</th>\n",
       "      <th>Current_Year</th>\n",
       "      <th>Age</th>\n",
       "      <th>BMI</th>\n",
       "      <th>BMI_Category</th>\n",
       "    </tr>\n",
       "  </thead>\n",
       "  <tbody>\n",
       "    <tr>\n",
       "      <th>0</th>\n",
       "      <td>Male</td>\n",
       "      <td>73.847017</td>\n",
       "      <td>241.893563</td>\n",
       "      <td>1967</td>\n",
       "      <td>2025</td>\n",
       "      <td>58.0</td>\n",
       "      <td>31.182700</td>\n",
       "      <td>Obesity Class I</td>\n",
       "    </tr>\n",
       "    <tr>\n",
       "      <th>1</th>\n",
       "      <td>Male</td>\n",
       "      <td>68.781904</td>\n",
       "      <td>162.310473</td>\n",
       "      <td>1977</td>\n",
       "      <td>2025</td>\n",
       "      <td>48.0</td>\n",
       "      <td>24.118677</td>\n",
       "      <td>Normal Weight</td>\n",
       "    </tr>\n",
       "    <tr>\n",
       "      <th>2</th>\n",
       "      <td>Male</td>\n",
       "      <td>74.110105</td>\n",
       "      <td>212.740856</td>\n",
       "      <td>1991</td>\n",
       "      <td>2025</td>\n",
       "      <td>34.0</td>\n",
       "      <td>27.230233</td>\n",
       "      <td>Overweight</td>\n",
       "    </tr>\n",
       "    <tr>\n",
       "      <th>3</th>\n",
       "      <td>Male</td>\n",
       "      <td>71.730978</td>\n",
       "      <td>220.042470</td>\n",
       "      <td>1998</td>\n",
       "      <td>2025</td>\n",
       "      <td>27.0</td>\n",
       "      <td>30.064108</td>\n",
       "      <td>Obesity Class I</td>\n",
       "    </tr>\n",
       "    <tr>\n",
       "      <th>4</th>\n",
       "      <td>Male</td>\n",
       "      <td>69.881796</td>\n",
       "      <td>206.349801</td>\n",
       "      <td>1985</td>\n",
       "      <td>2025</td>\n",
       "      <td>40.0</td>\n",
       "      <td>29.705117</td>\n",
       "      <td>Overweight</td>\n",
       "    </tr>\n",
       "  </tbody>\n",
       "</table>\n",
       "</div>"
      ],
      "text/plain": [
       "  Gender     Height      Weight  Born_Year  Current_Year   Age        BMI  \\\n",
       "0   Male  73.847017  241.893563       1967          2025  58.0  31.182700   \n",
       "1   Male  68.781904  162.310473       1977          2025  48.0  24.118677   \n",
       "2   Male  74.110105  212.740856       1991          2025  34.0  27.230233   \n",
       "3   Male  71.730978  220.042470       1998          2025  27.0  30.064108   \n",
       "4   Male  69.881796  206.349801       1985          2025  40.0  29.705117   \n",
       "\n",
       "      BMI_Category  \n",
       "0  Obesity Class I  \n",
       "1    Normal Weight  \n",
       "2       Overweight  \n",
       "3  Obesity Class I  \n",
       "4       Overweight  "
      ]
     },
     "execution_count": 53,
     "metadata": {},
     "output_type": "execute_result"
    }
   ],
   "source": [
    "#Function that returns bmi category for each value in the BMI column.\n",
    "\n",
    "def bmi_category(bmi):\n",
    "    if bmi < 18.5:\n",
    "        return \"Underweight\"\n",
    "    elif bmi < 24.9:\n",
    "        return \"Normal Weight\"\n",
    "    elif bmi < 29.9:\n",
    "        return \"Overweight\"\n",
    "    elif bmi < 34.9:\n",
    "        return \"Obesity Class I\"\n",
    "    elif bmi <= 39.9:\n",
    "        return \"Obesity Class II\"\n",
    "    else:\n",
    "        return \"Obesity Class III\"\n",
    "\n",
    "df_1['BMI_Category'] = df_1['BMI'].apply(bmi_category)  #Call the function for each value of BMIs\n",
    "df_1.head()"
   ]
  },
  {
   "cell_type": "code",
   "execution_count": 48,
   "id": "334e03c6-c712-49fa-8ffd-304be7b0b6bb",
   "metadata": {},
   "outputs": [
    {
     "data": {
      "text/plain": [
       "Gender           object\n",
       "Height          float64\n",
       "Weight          float64\n",
       "Born_Year         int64\n",
       "Born_year         int64\n",
       "Current_Year      int64\n",
       "Age             float64\n",
       "bmi             float64\n",
       "bmi_category     object\n",
       "dtype: object"
      ]
     },
     "execution_count": 48,
     "metadata": {},
     "output_type": "execute_result"
    }
   ],
   "source": [
    "df_1.dtypes"
   ]
  },
  {
   "cell_type": "code",
   "execution_count": 49,
   "id": "cfa3f41b-00ea-41cc-928f-83c239ab6622",
   "metadata": {},
   "outputs": [
    {
     "data": {
      "text/html": [
       "<div>\n",
       "<style scoped>\n",
       "    .dataframe tbody tr th:only-of-type {\n",
       "        vertical-align: middle;\n",
       "    }\n",
       "\n",
       "    .dataframe tbody tr th {\n",
       "        vertical-align: top;\n",
       "    }\n",
       "\n",
       "    .dataframe thead th {\n",
       "        text-align: right;\n",
       "    }\n",
       "</style>\n",
       "<table border=\"1\" class=\"dataframe\">\n",
       "  <thead>\n",
       "    <tr style=\"text-align: right;\">\n",
       "      <th></th>\n",
       "      <th>Gender</th>\n",
       "      <th>Height</th>\n",
       "      <th>Weight</th>\n",
       "      <th>Born_Year</th>\n",
       "      <th>Born_year</th>\n",
       "      <th>Current_Year</th>\n",
       "      <th>Age</th>\n",
       "      <th>bmi</th>\n",
       "      <th>bmi_category</th>\n",
       "    </tr>\n",
       "  </thead>\n",
       "  <tbody>\n",
       "    <tr>\n",
       "      <th>0</th>\n",
       "      <td>Male</td>\n",
       "      <td>73.847017</td>\n",
       "      <td>241.893563</td>\n",
       "      <td>1967</td>\n",
       "      <td>1967</td>\n",
       "      <td>2025</td>\n",
       "      <td>58.0</td>\n",
       "      <td>31.182700</td>\n",
       "      <td>Obesity Class I</td>\n",
       "    </tr>\n",
       "    <tr>\n",
       "      <th>1</th>\n",
       "      <td>Male</td>\n",
       "      <td>68.781904</td>\n",
       "      <td>162.310473</td>\n",
       "      <td>1977</td>\n",
       "      <td>1977</td>\n",
       "      <td>2025</td>\n",
       "      <td>48.0</td>\n",
       "      <td>24.118677</td>\n",
       "      <td>Normal Weight</td>\n",
       "    </tr>\n",
       "    <tr>\n",
       "      <th>2</th>\n",
       "      <td>Male</td>\n",
       "      <td>74.110105</td>\n",
       "      <td>212.740856</td>\n",
       "      <td>1991</td>\n",
       "      <td>1991</td>\n",
       "      <td>2025</td>\n",
       "      <td>34.0</td>\n",
       "      <td>27.230233</td>\n",
       "      <td>Overweight</td>\n",
       "    </tr>\n",
       "    <tr>\n",
       "      <th>3</th>\n",
       "      <td>Male</td>\n",
       "      <td>71.730978</td>\n",
       "      <td>220.042470</td>\n",
       "      <td>1998</td>\n",
       "      <td>1998</td>\n",
       "      <td>2025</td>\n",
       "      <td>27.0</td>\n",
       "      <td>30.064108</td>\n",
       "      <td>Obesity Class I</td>\n",
       "    </tr>\n",
       "    <tr>\n",
       "      <th>4</th>\n",
       "      <td>Male</td>\n",
       "      <td>69.881796</td>\n",
       "      <td>206.349801</td>\n",
       "      <td>1985</td>\n",
       "      <td>1985</td>\n",
       "      <td>2025</td>\n",
       "      <td>40.0</td>\n",
       "      <td>29.705117</td>\n",
       "      <td>Overweight</td>\n",
       "    </tr>\n",
       "  </tbody>\n",
       "</table>\n",
       "</div>"
      ],
      "text/plain": [
       "  Gender     Height      Weight  Born_Year  Born_year  Current_Year   Age  \\\n",
       "0   Male  73.847017  241.893563       1967       1967          2025  58.0   \n",
       "1   Male  68.781904  162.310473       1977       1977          2025  48.0   \n",
       "2   Male  74.110105  212.740856       1991       1991          2025  34.0   \n",
       "3   Male  71.730978  220.042470       1998       1998          2025  27.0   \n",
       "4   Male  69.881796  206.349801       1985       1985          2025  40.0   \n",
       "\n",
       "         bmi     bmi_category  \n",
       "0  31.182700  Obesity Class I  \n",
       "1  24.118677    Normal Weight  \n",
       "2  27.230233       Overweight  \n",
       "3  30.064108  Obesity Class I  \n",
       "4  29.705117       Overweight  "
      ]
     },
     "execution_count": 49,
     "metadata": {},
     "output_type": "execute_result"
    }
   ],
   "source": [
    "df_1.head()"
   ]
  },
  {
   "cell_type": "code",
   "execution_count": 54,
   "id": "56fc3f1f-c3cd-4390-b238-0501704893cd",
   "metadata": {},
   "outputs": [
    {
     "data": {
      "text/html": [
       "<div>\n",
       "<style scoped>\n",
       "    .dataframe tbody tr th:only-of-type {\n",
       "        vertical-align: middle;\n",
       "    }\n",
       "\n",
       "    .dataframe tbody tr th {\n",
       "        vertical-align: top;\n",
       "    }\n",
       "\n",
       "    .dataframe thead th {\n",
       "        text-align: right;\n",
       "    }\n",
       "</style>\n",
       "<table border=\"1\" class=\"dataframe\">\n",
       "  <thead>\n",
       "    <tr style=\"text-align: right;\">\n",
       "      <th></th>\n",
       "      <th>Gender</th>\n",
       "      <th>Height</th>\n",
       "      <th>Weight</th>\n",
       "      <th>Born_Year</th>\n",
       "      <th>Current_Year</th>\n",
       "      <th>Age</th>\n",
       "      <th>BMI</th>\n",
       "      <th>BMI_Category</th>\n",
       "    </tr>\n",
       "  </thead>\n",
       "  <tbody>\n",
       "    <tr>\n",
       "      <th>0</th>\n",
       "      <td>Male</td>\n",
       "      <td>73.847017</td>\n",
       "      <td>241.893563</td>\n",
       "      <td>1967</td>\n",
       "      <td>2025</td>\n",
       "      <td>58.0</td>\n",
       "      <td>31.182700</td>\n",
       "      <td>Obesity Class I</td>\n",
       "    </tr>\n",
       "    <tr>\n",
       "      <th>1</th>\n",
       "      <td>Male</td>\n",
       "      <td>68.781904</td>\n",
       "      <td>162.310473</td>\n",
       "      <td>1977</td>\n",
       "      <td>2025</td>\n",
       "      <td>48.0</td>\n",
       "      <td>24.118677</td>\n",
       "      <td>Normal Weight</td>\n",
       "    </tr>\n",
       "    <tr>\n",
       "      <th>2</th>\n",
       "      <td>Male</td>\n",
       "      <td>74.110105</td>\n",
       "      <td>212.740856</td>\n",
       "      <td>1991</td>\n",
       "      <td>2025</td>\n",
       "      <td>34.0</td>\n",
       "      <td>27.230233</td>\n",
       "      <td>Overweight</td>\n",
       "    </tr>\n",
       "    <tr>\n",
       "      <th>3</th>\n",
       "      <td>Male</td>\n",
       "      <td>71.730978</td>\n",
       "      <td>220.042470</td>\n",
       "      <td>1998</td>\n",
       "      <td>2025</td>\n",
       "      <td>27.0</td>\n",
       "      <td>30.064108</td>\n",
       "      <td>Obesity Class I</td>\n",
       "    </tr>\n",
       "    <tr>\n",
       "      <th>4</th>\n",
       "      <td>Male</td>\n",
       "      <td>69.881796</td>\n",
       "      <td>206.349801</td>\n",
       "      <td>1985</td>\n",
       "      <td>2025</td>\n",
       "      <td>40.0</td>\n",
       "      <td>29.705117</td>\n",
       "      <td>Overweight</td>\n",
       "    </tr>\n",
       "  </tbody>\n",
       "</table>\n",
       "</div>"
      ],
      "text/plain": [
       "  Gender     Height      Weight  Born_Year  Current_Year   Age        BMI  \\\n",
       "0   Male  73.847017  241.893563       1967          2025  58.0  31.182700   \n",
       "1   Male  68.781904  162.310473       1977          2025  48.0  24.118677   \n",
       "2   Male  74.110105  212.740856       1991          2025  34.0  27.230233   \n",
       "3   Male  71.730978  220.042470       1998          2025  27.0  30.064108   \n",
       "4   Male  69.881796  206.349801       1985          2025  40.0  29.705117   \n",
       "\n",
       "      BMI_Category  \n",
       "0  Obesity Class I  \n",
       "1    Normal Weight  \n",
       "2       Overweight  \n",
       "3  Obesity Class I  \n",
       "4       Overweight  "
      ]
     },
     "execution_count": 54,
     "metadata": {},
     "output_type": "execute_result"
    }
   ],
   "source": [
    "df_1.head()"
   ]
  }
 ],
 "metadata": {
  "kernelspec": {
   "display_name": "Python 3 (ipykernel)",
   "language": "python",
   "name": "python3"
  },
  "language_info": {
   "codemirror_mode": {
    "name": "ipython",
    "version": 3
   },
   "file_extension": ".py",
   "mimetype": "text/x-python",
   "name": "python",
   "nbconvert_exporter": "python",
   "pygments_lexer": "ipython3",
   "version": "3.13.3"
  }
 },
 "nbformat": 4,
 "nbformat_minor": 5
}
