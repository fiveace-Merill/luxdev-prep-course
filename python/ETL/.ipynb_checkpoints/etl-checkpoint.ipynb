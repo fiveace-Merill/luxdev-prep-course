{
 "cells": [
  {
   "cell_type": "markdown",
   "id": "e3ecb1dd-c57b-46a3-affa-8cbfe22ea3a6",
   "metadata": {},
   "source": [
    "# Introduction to ETL operations with Pandas and SQLAlchemy"
   ]
  },
  {
   "cell_type": "markdown",
   "id": "fb7f38ba-4a06-4549-9980-4371c0eadbf5",
   "metadata": {},
   "source": [
    "\n",
    "Install the necessary dependencies; pandas, pscopg2, and sqlalchemy\n",
    "  "
   ]
  },
  {
   "cell_type": "code",
   "execution_count": null,
   "id": "22bbe947-46f7-4f65-b006-bfd8da728f07",
   "metadata": {},
   "outputs": [],
   "source": [
    "pip install pandas  #Python library used for data manipulation and analysis."
   ]
  },
  {
   "cell_type": "code",
   "execution_count": null,
   "id": "5f0583c4-dd0a-4294-aa61-1365c015b2e9",
   "metadata": {},
   "outputs": [],
   "source": [
    "pip install psycopg2  #DBAPI, Python postgreSQL database adapter driver to for sqlachemy"
   ]
  },
  {
   "cell_type": "code",
   "execution_count": null,
   "id": "907a0b7c-9d08-4a7c-8df6-7f7602a967c1",
   "metadata": {},
   "outputs": [],
   "source": [
    "pip install sqlalchemy  #SQLAlchemy is the Python SQL toolkit and Object Relational Mapper that gives application developers the full power and flexibility of SQL"
   ]
  },
  {
   "cell_type": "markdown",
   "id": "5adbd83e-ccfa-4aa9-bdb4-6bb1d251039f",
   "metadata": {},
   "source": [
    "\n",
    "Import the dependencies\n"
   ]
  },
  {
   "cell_type": "code",
   "execution_count": null,
   "id": "6adb9055-f584-4e5c-bf4f-2961a489f14e",
   "metadata": {},
   "outputs": [],
   "source": [
    "import pandas as pd\n",
    "import psycopg2\n",
    "from sqlalchemy import create_engine\n",
    "import datetime"
   ]
  },
  {
   "cell_type": "markdown",
   "id": "19894ea2-6683-40ea-b8b9-b2d57e3aa71e",
   "metadata": {},
   "source": [
    "Using Pandas read the project csv file as <mark>df_1</mark>"
   ]
  },
  {
   "cell_type": "code",
   "execution_count": null,
   "id": "a4847f2e-457b-4f2f-8e64-5c25dad5007e",
   "metadata": {},
   "outputs": [],
   "source": [
    "df_1 = pd.read_csv('weight-height-updated.csv')"
   ]
  },
  {
   "cell_type": "code",
   "execution_count": null,
   "id": "4602b36c-755d-4b3b-b65d-57d184f3715f",
   "metadata": {},
   "outputs": [],
   "source": [
    "df_1.head()"
   ]
  },
  {
   "cell_type": "code",
   "execution_count": null,
   "id": "a7c4bd94-5a95-401a-9727-633ef11624be",
   "metadata": {},
   "outputs": [],
   "source": [
    "df_1.shape  #Display the number of rows and columns"
   ]
  },
  {
   "cell_type": "code",
   "execution_count": null,
   "id": "cbd7e2cb-921e-4f78-8c5d-c62bd349e630",
   "metadata": {},
   "outputs": [],
   "source": [
    "df_1.isnull().sum() #Checks the total count of null values."
   ]
  },
  {
   "cell_type": "code",
   "execution_count": null,
   "id": "257c7809-8d1a-4bc7-a116-8c1e674ce5a9",
   "metadata": {},
   "outputs": [],
   "source": [
    "df_1.dtypes  #Checks the data type for each column."
   ]
  },
  {
   "cell_type": "code",
   "execution_count": null,
   "id": "91ffc292-f249-48eb-b386-6428ab3c56e9",
   "metadata": {},
   "outputs": [],
   "source": [
    "df_1.describe()  #Display descriptive statistics."
   ]
  },
  {
   "cell_type": "code",
   "execution_count": null,
   "id": "2ca3b746-2376-4a16-9dd9-53884c320c0d",
   "metadata": {},
   "outputs": [],
   "source": [
    "cv = (32.11/161.44)*100\n",
    "cv"
   ]
  },
  {
   "cell_type": "code",
   "execution_count": null,
   "id": "34c4cdf3-1626-402f-8d5b-9d21249b1b9c",
   "metadata": {},
   "outputs": [],
   "source": [
    "c_v1 = (11.44/1985.36)*100 #cv<10%, therefore can use mean to fill nulls\n",
    "c_v1"
   ]
  },
  {
   "cell_type": "code",
   "execution_count": null,
   "id": "b77a96a0-7786-485c-8a42-67ff1e229d1c",
   "metadata": {},
   "outputs": [],
   "source": [
    "df_1['Born_Year'] = df_1['Born_Year'].fillna(df_1['Born_Year'].mode()[0])  #Calculated column."
   ]
  },
  {
   "cell_type": "code",
   "execution_count": null,
   "id": "c1c51fd5-2f31-4e0d-ae6e-55bf267d09a4",
   "metadata": {},
   "outputs": [],
   "source": [
    "df_1.isnull().sum()"
   ]
  },
  {
   "cell_type": "code",
   "execution_count": null,
   "id": "5ed88377-0158-41b8-9b19-8164eea3b3ac",
   "metadata": {},
   "outputs": [],
   "source": [
    "#Drop\n",
    "#df_1.dropna() #drops rows with missing values\n",
    "#df_1.dropna(axis=1) #drops columns with missing values"
   ]
  },
  {
   "cell_type": "code",
   "execution_count": null,
   "id": "8a3f7486-9d07-4946-9e5d-8540562b4092",
   "metadata": {},
   "outputs": [],
   "source": [
    "df_1['Born_Year'] = df_1['Born_Year'].astype(int) #Change data type for the Born Year column.\n",
    "df_1.dtypes"
   ]
  },
  {
   "cell_type": "code",
   "execution_count": null,
   "id": "66f81c58-7b5d-4745-a1fc-b12305eebe02",
   "metadata": {},
   "outputs": [],
   "source": [
    "df_1.head()"
   ]
  },
  {
   "cell_type": "code",
   "execution_count": null,
   "id": "a7c1ec51-ad5c-48aa-9f82-3f157214d8c6",
   "metadata": {},
   "outputs": [],
   "source": [
    "df_1['BMI'] = (df_1['Weight'] / (df_1['Height'])**2) * 703  #Calculated column for body mass index.\n",
    "df_1.head()"
   ]
  },
  {
   "cell_type": "code",
   "execution_count": null,
   "id": "f8580e82-64c3-4813-8bb0-5f06af237bab",
   "metadata": {},
   "outputs": [],
   "source": [
    "df_1['Current_Year'] = datetime.datetime.now().year #Calculated column for Current Year.\n",
    "df_1.head()"
   ]
  },
  {
   "cell_type": "code",
   "execution_count": null,
   "id": "3572f74d-c6b3-4ba7-bea9-8215f13ae1d6",
   "metadata": {},
   "outputs": [],
   "source": [
    "df_1['Age'] = df_1['Current_Year'] - df_1['Born_Year']  #Calculated column for Age.\n",
    "df_1.head()"
   ]
  },
  {
   "cell_type": "code",
   "execution_count": null,
   "id": "b10b7d07-0e43-4a9c-9808-b2365696da4f",
   "metadata": {},
   "outputs": [],
   "source": [
    "#Function that returns bmi category for each value in the BMI column.\n",
    "\n",
    "def bmi_category(bmi):\n",
    "    if bmi < 18.5:\n",
    "        return \"Underweight\"\n",
    "    elif bmi < 24.9:\n",
    "        return \"Normal Weight\"\n",
    "    elif bmi < 29.9:\n",
    "        return \"Overweight\"\n",
    "    elif bmi < 34.9:\n",
    "        return \"Obesity Class I\"\n",
    "    elif bmi <= 39.9:\n",
    "        return \"Obesity Class II\"\n",
    "    else:\n",
    "        return \"Obesity Class III\"\n",
    "\n",
    "df_1['BMI_Category'] = df_1['BMI'].apply(bmi_category)  #Call the function for each value of BMIs\n",
    "df_1.head()"
   ]
  },
  {
   "cell_type": "code",
   "execution_count": null,
   "id": "334e03c6-c712-49fa-8ffd-304be7b0b6bb",
   "metadata": {},
   "outputs": [],
   "source": [
    "df_1.dtypes"
   ]
  },
  {
   "cell_type": "code",
   "execution_count": null,
   "id": "cfa3f41b-00ea-41cc-928f-83c239ab6622",
   "metadata": {},
   "outputs": [],
   "source": [
    "df_1.head()"
   ]
  },
  {
   "cell_type": "code",
   "execution_count": null,
   "id": "56fc3f1f-c3cd-4390-b238-0501704893cd",
   "metadata": {},
   "outputs": [],
   "source": [
    "df_1.head()"
   ]
  },
  {
   "cell_type": "code",
   "execution_count": null,
   "id": "fad5803d-9718-40f3-b2cd-242e6d2bfbab",
   "metadata": {},
   "outputs": [],
   "source": [
    "df_1.columns"
   ]
  },
  {
   "cell_type": "code",
   "execution_count": null,
   "id": "4e1f1397-eab8-4d83-b747-b770b41a7f82",
   "metadata": {},
   "outputs": [],
   "source": [
    "engine = create_engine('postgresql+psycopg2://postgres:1234\\\n",
    "@localhost:5432/student_depression')"
   ]
  },
  {
   "cell_type": "markdown",
   "id": "2d4aa726-ca26-4aa0-9888-4f5e8ea28de0",
   "metadata": {},
   "source": [
    "\n",
    "Loadind the dataframe into a database under the schema, healthtest.\n"
   ]
  },
  {
   "cell_type": "code",
   "execution_count": null,
   "id": "053b84ff-dba9-4045-81e5-b431881648de",
   "metadata": {},
   "outputs": [],
   "source": [
    "df_1.to_sql('weight_height', engine, if_exists='replace', index=False, schema='healthtest')"
   ]
  },
  {
   "cell_type": "markdown",
   "id": "b533eda2-1f89-4ce1-af32-4cdc105f63f6",
   "metadata": {},
   "source": [
    "\n",
    "Reading data from a sql database with pandas function read_sql()\n"
   ]
  },
  {
   "cell_type": "code",
   "execution_count": null,
   "id": "d723d156-ec8f-4ca3-b586-d3c76f8209e5",
   "metadata": {},
   "outputs": [],
   "source": [
    "df_2 = pd.read_sql('SELECT * FROM healthtest.weight_height LIMIT 10', engine)\n",
    "df_2"
   ]
  }
 ],
 "metadata": {
  "kernelspec": {
   "display_name": "Python 3 (ipykernel)",
   "language": "python",
   "name": "python3"
  },
  "language_info": {
   "codemirror_mode": {
    "name": "ipython",
    "version": 3
   },
   "file_extension": ".py",
   "mimetype": "text/x-python",
   "name": "python",
   "nbconvert_exporter": "python",
   "pygments_lexer": "ipython3",
   "version": "3.13.3"
  }
 },
 "nbformat": 4,
 "nbformat_minor": 5
}
