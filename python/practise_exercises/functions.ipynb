{
 "cells": [
  {
   "cell_type": "markdown",
   "id": "1220c60e",
   "metadata": {},
   "source": [
    "Function to find the sum of two numbers"
   ]
  },
  {
   "cell_type": "code",
   "execution_count": 4,
   "id": "16d08841",
   "metadata": {},
   "outputs": [
    {
     "data": {
      "text/plain": [
       "36"
      ]
     },
     "execution_count": 4,
     "metadata": {},
     "output_type": "execute_result"
    }
   ],
   "source": [
    "def add_two_numbers(a, b):\n",
    "    return a + b\n",
    "\n",
    "num1 = 12\n",
    "num2 = 24\n",
    "add_two_numbers(num1, num2)"
   ]
  },
  {
   "cell_type": "markdown",
   "id": "7d330f0b",
   "metadata": {},
   "source": [
    "Function to find the areaa of a circle"
   ]
  },
  {
   "cell_type": "code",
   "execution_count": 3,
   "id": "54536a0e",
   "metadata": {},
   "outputs": [
    {
     "data": {
      "text/plain": [
       "153.93804002589985"
      ]
     },
     "execution_count": 3,
     "metadata": {},
     "output_type": "execute_result"
    }
   ],
   "source": [
    "import math\n",
    "def area_of_circle(rad):\n",
    "    return math.pi * rad * rad\n",
    "\n",
    "radius = 7\n",
    "area_of_circle(radius)"
   ]
  },
  {
   "cell_type": "markdown",
   "id": "3806681d",
   "metadata": {},
   "source": [
    "Function to find the sum of even numbers"
   ]
  },
  {
   "cell_type": "code",
   "execution_count": 29,
   "id": "12aa567d",
   "metadata": {},
   "outputs": [
    {
     "data": {
      "text/plain": [
       "6"
      ]
     },
     "execution_count": 29,
     "metadata": {},
     "output_type": "execute_result"
    }
   ],
   "source": [
    "def sum_of_even(n):\n",
    "    sum = 0\n",
    "    for x in range(n):\n",
    "        if x % 2 == 0:\n",
    "            sum = sum + x\n",
    "    return sum   \n",
    "test_1 = 5\n",
    "sum_of_even(test_1)"
   ]
  },
  {
   "cell_type": "markdown",
   "id": "08d88d59",
   "metadata": {},
   "source": [
    "Function to capitalize values in a list"
   ]
  },
  {
   "cell_type": "code",
   "execution_count": null,
   "id": "9a7baa63",
   "metadata": {},
   "outputs": [
    {
     "data": {
      "text/plain": [
       "['METICULOUS', 'CONTEMPT', 'OBGOBLIN', 'QUINTTESSENTIAL']"
      ]
     },
     "execution_count": 30,
     "metadata": {},
     "output_type": "execute_result"
    }
   ],
   "source": [
    "def capitalize(words):\n",
    "    return [x.upper() for x in words]\n",
    "vocabulary = ['meticulous', 'contempt', 'hobgoblin', 'quintessential']\n",
    "capitalize(vocabulary)"
   ]
  },
  {
   "cell_type": "markdown",
   "id": "8a2cfdbf",
   "metadata": {},
   "source": [
    "Function to reverse a list, in place."
   ]
  },
  {
   "cell_type": "code",
   "execution_count": 32,
   "id": "201d2207",
   "metadata": {},
   "outputs": [
    {
     "data": {
      "text/plain": [
       "['D', 'C', 'B', 'A']"
      ]
     },
     "execution_count": 32,
     "metadata": {},
     "output_type": "execute_result"
    }
   ],
   "source": [
    "def reverse_list(values):\n",
    "    x = 0\n",
    "    while x < len(values) / 2:\n",
    "        temp = values[x]\n",
    "        values[x] = values[len(values) - 1 - x]\n",
    "        values[len(values) - 1 - x] = temp\n",
    "        x += 1\n",
    "    return values\n",
    "\n",
    "array = [\"A\", \"B\", \"C\", \"D\"]\n",
    "reverse_list(array)"
   ]
  },
  {
   "cell_type": "code",
   "execution_count": 20,
   "id": "b832f995",
   "metadata": {},
   "outputs": [
    {
     "name": "stdout",
     "output_type": "stream",
     "text": [
      "freddie A\n",
      "annette B\n",
      "jackson C\n"
     ]
    }
   ],
   "source": [
    "students = [\n",
    "    {'name': \"freddie\", 'age': 25, 'grade': \"A\"},\n",
    "    {'name': \"annette\", 'age': 27, 'grade': \"B\"},\n",
    "    {'name': \"jackson\", 'age': 24, 'grade': \"C\"}\n",
    "]\n",
    "\n",
    "for x in students:\n",
    "        print(x['name'], x['grade'])\n"
   ]
  },
  {
   "cell_type": "markdown",
   "id": "6e0ef340",
   "metadata": {},
   "source": [
    "Lambda functions"
   ]
  },
  {
   "cell_type": "code",
   "execution_count": 29,
   "id": "366ef159",
   "metadata": {},
   "outputs": [
    {
     "data": {
      "text/plain": [
       "[('freddie', 4), ('annette', 3), ('jackson', 2)]"
      ]
     },
     "execution_count": 29,
     "metadata": {},
     "output_type": "execute_result"
    }
   ],
   "source": [
    "import math\n",
    "def power(num):\n",
    "    return lambda power: num ** power\n",
    "\n",
    "num_1 = 3\n",
    "v1 = power(3)\n",
    "v1(3)\n",
    "\n",
    "students = [\n",
    "    {'name': \"freddie\", 'age': 25, 'grade': \"A\"},\n",
    "    {'name': \"annette\", 'age': 27, 'grade': \"B\"},\n",
    "    {'name': \"jackson\", 'age': 24, 'grade': \"C\"}\n",
    "]\n",
    "score = 0\n",
    "def grading(grade):\n",
    "    if grade == \"A\":\n",
    "        score = 4\n",
    "    elif grade == \"B\":\n",
    "        score = 3\n",
    "    elif grade == \"C\":\n",
    "        score = 2\n",
    "    elif grade == \"D\":\n",
    "        score = 1\n",
    "    else:\n",
    "        score = 0\n",
    "    return score\n",
    "\n",
    "def students_grading(students):\n",
    "    student_score = []\n",
    "    for x in range(len(students)):\n",
    "        student_score.append((students[x]['name'], grading(students[x]['grade'])))\n",
    "    return student_score\n",
    "students_grading(students)\n",
    "            \n",
    "            \n",
    "            "
   ]
  },
  {
   "cell_type": "markdown",
   "id": "df8df28b",
   "metadata": {},
   "source": [
    "Function to assign numerical grades to students"
   ]
  },
  {
   "cell_type": "code",
   "execution_count": null,
   "id": "520207db",
   "metadata": {},
   "outputs": [],
   "source": [
    "students = [\n",
    "    {'name': \"freddie\", 'age': 25, 'grade': \"A\"},\n",
    "    {'name': \"annette\", 'age': 27, 'grade': \"B\"},\n",
    "    {'name': \"jackson\", 'age': 24, 'grade': \"C\"}\n",
    "]\n",
    "score = 0\n",
    "def grading(grade):\n",
    "    if grade == \"A\":\n",
    "        score = 4\n",
    "    elif grade == \"B\":\n",
    "        score = 3\n",
    "    elif grade == \"C\":\n",
    "        score = 2\n",
    "    elif grade == \"D\":\n",
    "        score = 1\n",
    "    else:\n",
    "        score = 0\n",
    "    return score\n",
    "\n",
    "def students_grading(students):\n",
    "    student_score = []\n",
    "    for x in range(len(students)):\n",
    "        student_score.append((students[x]['name'], grading(students[x]['grade'])))\n",
    "    return student_score\n",
    "students_grading(students)"
   ]
  }
 ],
 "metadata": {
  "kernelspec": {
   "display_name": "Python 3",
   "language": "python",
   "name": "python3"
  },
  "language_info": {
   "codemirror_mode": {
    "name": "ipython",
    "version": 3
   },
   "file_extension": ".py",
   "mimetype": "text/x-python",
   "name": "python",
   "nbconvert_exporter": "python",
   "pygments_lexer": "ipython3",
   "version": "3.13.3"
  }
 },
 "nbformat": 4,
 "nbformat_minor": 5
}
